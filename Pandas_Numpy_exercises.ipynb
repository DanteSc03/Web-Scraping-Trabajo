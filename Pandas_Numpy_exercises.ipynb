{
 "cells": [
  {
   "cell_type": "markdown",
   "metadata": {},
   "source": [
    "## **Exercise 1**\n",
    "---   \n",
    "\n",
    "### *Information to be delivered*:\n",
    "\n",
    "The 📓 notebook with the name \"Name1_Surname1 - Name2_Surname2 - Name3_Surname3.ipynb\": \n",
    "\n",
    "\n",
    "<div style=\"background-color: lightred; padding: 10px; border: 1px solid #ff0000;\">\n",
    "    <strong>⚠ Warning:</strong> \n",
    "        <br>\n",
    "        1. You can only use the materials viewed in class.\n",
    "        <br>\n",
    "        2. If the code gives an error, the exercise will be considered as not solved.\n",
    "        <br>\n",
    "        3. Folder must be named as \"Name1_Surname1 - Name2_Surname2 - Name3_Surname3\"\n",
    "</div>"
   ]
  },
  {
   "cell_type": "markdown",
   "metadata": {},
   "source": [
    "### **Pandas**\n",
    "---"
   ]
  },
  {
   "cell_type": "code",
   "execution_count": 55,
   "metadata": {},
   "outputs": [],
   "source": [
    "import numpy as np\n",
    "import pandas as pd"
   ]
  },
  {
   "cell_type": "code",
   "execution_count": 56,
   "metadata": {},
   "outputs": [
    {
     "data": {
      "text/html": [
       "<div>\n",
       "<style scoped>\n",
       "    .dataframe tbody tr th:only-of-type {\n",
       "        vertical-align: middle;\n",
       "    }\n",
       "\n",
       "    .dataframe tbody tr th {\n",
       "        vertical-align: top;\n",
       "    }\n",
       "\n",
       "    .dataframe thead th {\n",
       "        text-align: right;\n",
       "    }\n",
       "</style>\n",
       "<table border=\"1\" class=\"dataframe\">\n",
       "  <thead>\n",
       "    <tr style=\"text-align: right;\">\n",
       "      <th></th>\n",
       "      <th>PassengerId</th>\n",
       "      <th>Survived</th>\n",
       "      <th>Pclass</th>\n",
       "      <th>Name</th>\n",
       "      <th>Sex</th>\n",
       "      <th>Age</th>\n",
       "      <th>SibSp</th>\n",
       "      <th>Parch</th>\n",
       "      <th>Ticket</th>\n",
       "      <th>Fare</th>\n",
       "      <th>Cabin</th>\n",
       "      <th>Embarked</th>\n",
       "    </tr>\n",
       "  </thead>\n",
       "  <tbody>\n",
       "    <tr>\n",
       "      <th>0</th>\n",
       "      <td>1</td>\n",
       "      <td>0</td>\n",
       "      <td>3</td>\n",
       "      <td>Braund, Mr. Owen Harris</td>\n",
       "      <td>male</td>\n",
       "      <td>22.0</td>\n",
       "      <td>1</td>\n",
       "      <td>0</td>\n",
       "      <td>A/5 21171</td>\n",
       "      <td>7.2500</td>\n",
       "      <td>NaN</td>\n",
       "      <td>S</td>\n",
       "    </tr>\n",
       "    <tr>\n",
       "      <th>1</th>\n",
       "      <td>2</td>\n",
       "      <td>1</td>\n",
       "      <td>1</td>\n",
       "      <td>Cumings, Mrs. John Bradley (Florence Briggs Th...</td>\n",
       "      <td>female</td>\n",
       "      <td>38.0</td>\n",
       "      <td>1</td>\n",
       "      <td>0</td>\n",
       "      <td>PC 17599</td>\n",
       "      <td>71.2833</td>\n",
       "      <td>C85</td>\n",
       "      <td>C</td>\n",
       "    </tr>\n",
       "    <tr>\n",
       "      <th>2</th>\n",
       "      <td>3</td>\n",
       "      <td>1</td>\n",
       "      <td>3</td>\n",
       "      <td>Heikkinen, Miss. Laina</td>\n",
       "      <td>female</td>\n",
       "      <td>26.0</td>\n",
       "      <td>0</td>\n",
       "      <td>0</td>\n",
       "      <td>STON/O2. 3101282</td>\n",
       "      <td>7.9250</td>\n",
       "      <td>NaN</td>\n",
       "      <td>S</td>\n",
       "    </tr>\n",
       "    <tr>\n",
       "      <th>3</th>\n",
       "      <td>4</td>\n",
       "      <td>1</td>\n",
       "      <td>1</td>\n",
       "      <td>Futrelle, Mrs. Jacques Heath (Lily May Peel)</td>\n",
       "      <td>female</td>\n",
       "      <td>35.0</td>\n",
       "      <td>1</td>\n",
       "      <td>0</td>\n",
       "      <td>113803</td>\n",
       "      <td>53.1000</td>\n",
       "      <td>C123</td>\n",
       "      <td>S</td>\n",
       "    </tr>\n",
       "    <tr>\n",
       "      <th>4</th>\n",
       "      <td>5</td>\n",
       "      <td>0</td>\n",
       "      <td>3</td>\n",
       "      <td>Allen, Mr. William Henry</td>\n",
       "      <td>male</td>\n",
       "      <td>35.0</td>\n",
       "      <td>0</td>\n",
       "      <td>0</td>\n",
       "      <td>373450</td>\n",
       "      <td>8.0500</td>\n",
       "      <td>NaN</td>\n",
       "      <td>S</td>\n",
       "    </tr>\n",
       "  </tbody>\n",
       "</table>\n",
       "</div>"
      ],
      "text/plain": [
       "   PassengerId  Survived  Pclass  \\\n",
       "0            1         0       3   \n",
       "1            2         1       1   \n",
       "2            3         1       3   \n",
       "3            4         1       1   \n",
       "4            5         0       3   \n",
       "\n",
       "                                                Name     Sex   Age  SibSp  \\\n",
       "0                            Braund, Mr. Owen Harris    male  22.0      1   \n",
       "1  Cumings, Mrs. John Bradley (Florence Briggs Th...  female  38.0      1   \n",
       "2                             Heikkinen, Miss. Laina  female  26.0      0   \n",
       "3       Futrelle, Mrs. Jacques Heath (Lily May Peel)  female  35.0      1   \n",
       "4                           Allen, Mr. William Henry    male  35.0      0   \n",
       "\n",
       "   Parch            Ticket     Fare Cabin Embarked  \n",
       "0      0         A/5 21171   7.2500   NaN        S  \n",
       "1      0          PC 17599  71.2833   C85        C  \n",
       "2      0  STON/O2. 3101282   7.9250   NaN        S  \n",
       "3      0            113803  53.1000  C123        S  \n",
       "4      0            373450   8.0500   NaN        S  "
      ]
     },
     "execution_count": 56,
     "metadata": {},
     "output_type": "execute_result"
    }
   ],
   "source": [
    "# CODE HERE:\n",
    "df_train = pd.read_csv('train.csv', sep='|')\n",
    "df_train.head()\n",
    "# END CODE"
   ]
  },
  {
   "cell_type": "markdown",
   "metadata": {},
   "source": [
    "### **1. Pivot (0,5p.)**\n",
    "---"
   ]
  },
  {
   "cell_type": "markdown",
   "metadata": {},
   "source": [
    "Using the provided dataset, create a pivot table that shows the average fare (Fare) paid by passengers, grouped by Embarked and Pclass."
   ]
  },
  {
   "cell_type": "code",
   "execution_count": 57,
   "metadata": {},
   "outputs": [
    {
     "data": {
      "text/html": [
       "<div>\n",
       "<style scoped>\n",
       "    .dataframe tbody tr th:only-of-type {\n",
       "        vertical-align: middle;\n",
       "    }\n",
       "\n",
       "    .dataframe tbody tr th {\n",
       "        vertical-align: top;\n",
       "    }\n",
       "\n",
       "    .dataframe thead th {\n",
       "        text-align: right;\n",
       "    }\n",
       "</style>\n",
       "<table border=\"1\" class=\"dataframe\">\n",
       "  <thead>\n",
       "    <tr style=\"text-align: right;\">\n",
       "      <th>Pclass</th>\n",
       "      <th>1</th>\n",
       "      <th>2</th>\n",
       "      <th>3</th>\n",
       "    </tr>\n",
       "    <tr>\n",
       "      <th>Embarked</th>\n",
       "      <th></th>\n",
       "      <th></th>\n",
       "      <th></th>\n",
       "    </tr>\n",
       "  </thead>\n",
       "  <tbody>\n",
       "    <tr>\n",
       "      <th>C</th>\n",
       "      <td>104.718529</td>\n",
       "      <td>25.358335</td>\n",
       "      <td>11.214083</td>\n",
       "    </tr>\n",
       "    <tr>\n",
       "      <th>Q</th>\n",
       "      <td>90.000000</td>\n",
       "      <td>12.350000</td>\n",
       "      <td>11.183393</td>\n",
       "    </tr>\n",
       "    <tr>\n",
       "      <th>S</th>\n",
       "      <td>70.364862</td>\n",
       "      <td>20.327439</td>\n",
       "      <td>14.644083</td>\n",
       "    </tr>\n",
       "  </tbody>\n",
       "</table>\n",
       "</div>"
      ],
      "text/plain": [
       "Pclass             1          2          3\n",
       "Embarked                                  \n",
       "C         104.718529  25.358335  11.214083\n",
       "Q          90.000000  12.350000  11.183393\n",
       "S          70.364862  20.327439  14.644083"
      ]
     },
     "metadata": {},
     "output_type": "display_data"
    }
   ],
   "source": [
    "# CODE HERE:\n",
    "pivot_table = df_train.pivot_table(values='Fare', index='Embarked', columns='Pclass', aggfunc=\"mean\")\n",
    "display(pivot_table)\n",
    "# END CODE"
   ]
  },
  {
   "cell_type": "markdown",
   "metadata": {},
   "source": [
    "### **2. Percentage of missing values (1p.)**\n",
    "---\n",
    "Get the percentage of missing values in each column of `df_train` and print only the columns with **more than 0% and less than 20% of missing values.**"
   ]
  },
  {
   "cell_type": "code",
   "execution_count": 58,
   "metadata": {},
   "outputs": [
    {
     "name": "stdout",
     "output_type": "stream",
     "text": [
      "Age: 19.87%\n",
      "Embarked: 0.22%\n"
     ]
    }
   ],
   "source": [
    "# CODE HERE:\n",
    "missing_percentage = df_train.isnull().sum() * 100 / len(df_train)\n",
    "for column in missing_percentage.index:\n",
    "    if missing_percentage[column] > 0 and missing_percentage[column] < 20:\n",
    "        print(f\"{column}: {missing_percentage[column]:.2f}%\")\n",
    "# END CODE"
   ]
  },
  {
   "cell_type": "markdown",
   "metadata": {},
   "source": [
    "### **3. Pivot table (1p.)**\n",
    "---"
   ]
  },
  {
   "cell_type": "code",
   "execution_count": 59,
   "metadata": {},
   "outputs": [],
   "source": [
    "data = {\n",
    "    'Product_ID': [201, 202, 203, 204, 205],\n",
    "    'Category': ['Electronics', 'Furniture', 'Clothing', 'Electronics', 'Furniture'],\n",
    "    'Price': [300, 1500, 50, 250, 1200],\n",
    "    'Stock_Quantity': [50, 20, 100, 60, 15]\n",
    "}\n",
    "\n",
    "product_data = pd.DataFrame(data)"
   ]
  },
  {
   "cell_type": "code",
   "execution_count": 60,
   "metadata": {},
   "outputs": [
    {
     "name": "stdout",
     "output_type": "stream",
     "text": [
      "a) Average Price and Median Stock Quantity by Category:\n"
     ]
    },
    {
     "data": {
      "text/html": [
       "<div>\n",
       "<style scoped>\n",
       "    .dataframe tbody tr th:only-of-type {\n",
       "        vertical-align: middle;\n",
       "    }\n",
       "\n",
       "    .dataframe tbody tr th {\n",
       "        vertical-align: top;\n",
       "    }\n",
       "\n",
       "    .dataframe thead th {\n",
       "        text-align: right;\n",
       "    }\n",
       "</style>\n",
       "<table border=\"1\" class=\"dataframe\">\n",
       "  <thead>\n",
       "    <tr style=\"text-align: right;\">\n",
       "      <th></th>\n",
       "      <th>Price</th>\n",
       "      <th>Stock_Quantity</th>\n",
       "    </tr>\n",
       "    <tr>\n",
       "      <th>Category</th>\n",
       "      <th></th>\n",
       "      <th></th>\n",
       "    </tr>\n",
       "  </thead>\n",
       "  <tbody>\n",
       "    <tr>\n",
       "      <th>Clothing</th>\n",
       "      <td>50.0</td>\n",
       "      <td>100.0</td>\n",
       "    </tr>\n",
       "    <tr>\n",
       "      <th>Electronics</th>\n",
       "      <td>275.0</td>\n",
       "      <td>55.0</td>\n",
       "    </tr>\n",
       "    <tr>\n",
       "      <th>Furniture</th>\n",
       "      <td>1350.0</td>\n",
       "      <td>17.5</td>\n",
       "    </tr>\n",
       "  </tbody>\n",
       "</table>\n",
       "</div>"
      ],
      "text/plain": [
       "              Price  Stock_Quantity\n",
       "Category                           \n",
       "Clothing       50.0           100.0\n",
       "Electronics   275.0            55.0\n",
       "Furniture    1350.0            17.5"
      ]
     },
     "metadata": {},
     "output_type": "display_data"
    },
    {
     "name": "stdout",
     "output_type": "stream",
     "text": [
      "b) Category with Highest Average Price: Furniture\n"
     ]
    }
   ],
   "source": [
    "# a. Average price and median stock quantity in each category\n",
    "avg_price_and_median_stock = product_data.groupby('Category').agg({'Price': 'mean', 'Stock_Quantity': 'median'})\n",
    "\n",
    "# b. Category with the highest average price\n",
    "highest_price_category = avg_price_and_median_stock['Price'].idxmax()\n",
    "\n",
    "\n",
    "print(\"a) Average Price and Median Stock Quantity by Category:\")\n",
    "display(avg_price_and_median_stock)\n",
    "print(\"b) Category with Highest Average Price:\", highest_price_category)"
   ]
  },
  {
   "cell_type": "markdown",
   "metadata": {},
   "source": [
    "### **4. Dict function (1p.)**\n",
    "---\n",
    "Create a function that given a dataframe return a dictionary with all the rows that have missing values and the number of missing values per row (`df_train`).   \n",
    "The keys are the index (you must put \"index X\") and the values the number of missing values.    \n",
    "Example:   \n",
    "`{index 0: 1, 1: index 2, index 11: 1, index 45: 1, index 49: 1}`"
   ]
  },
  {
   "cell_type": "code",
   "execution_count": 61,
   "metadata": {},
   "outputs": [
    {
     "name": "stdout",
     "output_type": "stream",
     "text": [
      "{'index 0': 1, 'index 2': 1, 'index 4': 1, 'index 5': 2, 'index 7': 1, 'index 8': 1, 'index 9': 1, 'index 12': 1, 'index 13': 1, 'index 14': 1, 'index 15': 1, 'index 16': 1, 'index 17': 2, 'index 18': 1, 'index 19': 2, 'index 20': 1, 'index 22': 1, 'index 24': 1, 'index 25': 1, 'index 26': 2, 'index 28': 2, 'index 29': 2, 'index 30': 1, 'index 31': 1, 'index 32': 2, 'index 33': 1, 'index 34': 1, 'index 35': 1, 'index 36': 2, 'index 37': 1, 'index 38': 1, 'index 39': 1, 'index 40': 1, 'index 41': 1, 'index 42': 2, 'index 43': 1, 'index 44': 1, 'index 45': 2, 'index 46': 2, 'index 47': 2, 'index 48': 2, 'index 49': 1, 'index 50': 1, 'index 51': 1, 'index 53': 1, 'index 55': 1, 'index 56': 1, 'index 57': 1, 'index 58': 1, 'index 59': 1, 'index 60': 1, 'index 61': 1, 'index 63': 1, 'index 64': 2, 'index 65': 2, 'index 67': 1, 'index 68': 1, 'index 69': 1, 'index 70': 1, 'index 71': 1, 'index 72': 1, 'index 73': 1, 'index 74': 1, 'index 76': 2, 'index 77': 2, 'index 78': 1, 'index 79': 1, 'index 80': 1, 'index 81': 1, 'index 82': 2, 'index 83': 1, 'index 84': 1, 'index 85': 1, 'index 86': 1, 'index 87': 2, 'index 89': 1, 'index 90': 1, 'index 91': 1, 'index 93': 1, 'index 94': 1, 'index 95': 2, 'index 98': 1, 'index 99': 1, 'index 100': 1, 'index 101': 2, 'index 103': 1, 'index 104': 1, 'index 105': 1, 'index 106': 1, 'index 107': 2, 'index 108': 1, 'index 109': 2, 'index 111': 1, 'index 112': 1, 'index 113': 1, 'index 114': 1, 'index 115': 1, 'index 116': 1, 'index 117': 1, 'index 119': 1, 'index 120': 1, 'index 121': 2, 'index 122': 1, 'index 125': 1, 'index 126': 2, 'index 127': 1, 'index 128': 1, 'index 129': 1, 'index 130': 1, 'index 131': 1, 'index 132': 1, 'index 133': 1, 'index 134': 1, 'index 135': 1, 'index 138': 1, 'index 140': 2, 'index 141': 1, 'index 142': 1, 'index 143': 1, 'index 144': 1, 'index 145': 1, 'index 146': 1, 'index 147': 1, 'index 149': 1, 'index 150': 1, 'index 152': 1, 'index 153': 1, 'index 154': 2, 'index 155': 1, 'index 156': 1, 'index 157': 1, 'index 158': 2, 'index 159': 2, 'index 160': 1, 'index 161': 1, 'index 162': 1, 'index 163': 1, 'index 164': 1, 'index 165': 1, 'index 166': 1, 'index 167': 1, 'index 168': 2, 'index 169': 1, 'index 171': 1, 'index 172': 1, 'index 173': 1, 'index 175': 1, 'index 176': 2, 'index 178': 1, 'index 179': 1, 'index 180': 2, 'index 181': 2, 'index 182': 1, 'index 184': 1, 'index 185': 1, 'index 186': 2, 'index 187': 1, 'index 188': 1, 'index 189': 1, 'index 190': 1, 'index 191': 1, 'index 192': 1, 'index 196': 2, 'index 197': 1, 'index 198': 2, 'index 199': 1, 'index 200': 1, 'index 201': 2, 'index 202': 1, 'index 203': 1, 'index 204': 1, 'index 206': 1, 'index 207': 1, 'index 208': 1, 'index 210': 1, 'index 211': 1, 'index 212': 1, 'index 213': 1, 'index 214': 2, 'index 216': 1, 'index 217': 1, 'index 219': 1, 'index 220': 1, 'index 221': 1, 'index 222': 1, 'index 223': 2, 'index 225': 1, 'index 226': 1, 'index 227': 1, 'index 228': 1, 'index 229': 2, 'index 231': 1, 'index 232': 1, 'index 233': 1, 'index 234': 1, 'index 235': 2, 'index 236': 1, 'index 237': 1, 'index 238': 1, 'index 239': 1, 'index 240': 2, 'index 241': 2, 'index 242': 1, 'index 243': 1, 'index 244': 1, 'index 246': 1, 'index 247': 1, 'index 249': 1, 'index 250': 2, 'index 253': 1, 'index 254': 1, 'index 255': 1, 'index 256': 2, 'index 258': 1, 'index 259': 1, 'index 260': 2, 'index 261': 1, 'index 264': 2, 'index 265': 1, 'index 266': 1, 'index 267': 1, 'index 270': 2, 'index 271': 1, 'index 272': 1, 'index 274': 2, 'index 276': 1, 'index 277': 2, 'index 278': 1, 'index 279': 1, 'index 280': 1, 'index 281': 1, 'index 282': 1, 'index 283': 1, 'index 284': 1, 'index 285': 1, 'index 286': 1, 'index 287': 1, 'index 288': 1, 'index 289': 1, 'index 290': 1, 'index 293': 1, 'index 294': 1, 'index 295': 2, 'index 296': 1, 'index 298': 1, 'index 300': 2, 'index 301': 2, 'index 302': 1, 'index 303': 1, 'index 304': 2, 'index 306': 2, 'index 308': 1, 'index 312': 1, 'index 313': 1, 'index 314': 1, 'index 315': 1, 'index 316': 1, 'index 317': 1, 'index 320': 1, 'index 321': 1, 'index 322': 1, 'index 323': 1, 'index 324': 2, 'index 326': 1, 'index 328': 1, 'index 330': 2, 'index 333': 1, 'index 334': 2, 'index 335': 2, 'index 338': 1, 'index 342': 1, 'index 343': 1, 'index 344': 1, 'index 346': 1, 'index 347': 2, 'index 348': 1, 'index 349': 1, 'index 350': 1, 'index 351': 1, 'index 352': 1, 'index 353': 1, 'index 354': 2, 'index 355': 1, 'index 357': 1, 'index 358': 2, 'index 359': 2, 'index 360': 1, 'index 361': 1, 'index 362': 1, 'index 363': 1, 'index 364': 2, 'index 365': 1, 'index 367': 2, 'index 368': 2, 'index 371': 1, 'index 372': 1, 'index 373': 1, 'index 374': 1, 'index 375': 2, 'index 376': 1, 'index 378': 1, 'index 379': 1, 'index 380': 1, 'index 381': 1, 'index 382': 1, 'index 383': 1, 'index 384': 2, 'index 385': 1, 'index 386': 1, 'index 387': 1, 'index 388': 2, 'index 389': 1, 'index 391': 1, 'index 392': 1, 'index 395': 1, 'index 396': 1, 'index 397': 1, 'index 398': 1, 'index 399': 1, 'index 400': 1, 'index 401': 1, 'index 402': 1, 'index 403': 1, 'index 404': 1, 'index 405': 1, 'index 406': 1, 'index 407': 1, 'index 408': 1, 'index 409': 2, 'index 410': 2, 'index 411': 2, 'index 413': 2, 'index 414': 1, 'index 415': 2, 'index 416': 1, 'index 417': 1, 'index 418': 1, 'index 419': 1, 'index 420': 2, 'index 421': 1, 'index 422': 1, 'index 423': 1, 'index 424': 1, 'index 425': 2, 'index 426': 1, 'index 427': 1, 'index 428': 2, 'index 431': 2, 'index 432': 1, 'index 433': 1, 'index 436': 1, 'index 437': 1, 'index 439': 1, 'index 440': 1, 'index 441': 1, 'index 442': 1, 'index 443': 1, 'index 444': 2, 'index 446': 1, 'index 447': 1, 'index 448': 1, 'index 450': 1, 'index 451': 2, 'index 454': 2, 'index 455': 1, 'index 457': 1, 'index 458': 1, 'index 459': 2, 'index 461': 1, 'index 463': 1, 'index 464': 2, 'index 465': 1, 'index 466': 2, 'index 467': 1, 'index 468': 2, 'index 469': 1, 'index 470': 2, 'index 471': 1, 'index 472': 1, 'index 474': 1, 'index 475': 1, 'index 476': 1, 'index 477': 1, 'index 478': 1, 'index 479': 1, 'index 480': 1, 'index 481': 2, 'index 482': 1, 'index 483': 1, 'index 485': 2, 'index 488': 1, 'index 489': 1, 'index 490': 2, 'index 491': 1, 'index 493': 1, 'index 494': 1, 'index 495': 2, 'index 497': 2, 'index 499': 1, 'index 500': 1, 'index 501': 1, 'index 502': 2, 'index 503': 1, 'index 506': 1, 'index 507': 2, 'index 508': 1, 'index 509': 1, 'index 510': 1, 'index 511': 2, 'index 513': 1, 'index 514': 1, 'index 517': 2, 'index 518': 1, 'index 519': 1, 'index 521': 1, 'index 522': 2, 'index 524': 2, 'index 525': 1, 'index 526': 1, 'index 527': 1, 'index 528': 1, 'index 529': 1, 'index 530': 1, 'index 531': 2, 'index 532': 1, 'index 533': 2, 'index 534': 1, 'index 535': 1, 'index 537': 1, 'index 538': 2, 'index 541': 1, 'index 542': 1, 'index 543': 1, 'index 545': 1, 'index 546': 1, 'index 547': 2, 'index 548': 1, 'index 549': 1, 'index 551': 1, 'index 552': 2, 'index 553': 1, 'index 554': 1, 'index 555': 1, 'index 557': 2, 'index 559': 1, 'index 560': 2, 'index 561': 1, 'index 562': 1, 'index 563': 2, 'index 564': 2, 'index 565': 1, 'index 566': 1, 'index 567': 1, 'index 568': 2, 'index 569': 1, 'index 570': 1, 'index 573': 2, 'index 574': 1, 'index 575': 1, 'index 576': 1, 'index 578': 2, 'index 579': 1, 'index 580': 1, 'index 582': 1, 'index 584': 2, 'index 586': 1, 'index 588': 1, 'index 589': 2, 'index 590': 1, 'index 592': 1, 'index 593': 2, 'index 594': 1, 'index 595': 1, 'index 596': 2, 'index 597': 1, 'index 598': 2, 'index 600': 1, 'index 601': 2, 'index 602': 2, 'index 603': 1, 'index 604': 1, 'index 605': 1, 'index 606': 1, 'index 607': 1, 'index 608': 1, 'index 610': 1, 'index 611': 2, 'index 612': 2, 'index 613': 2, 'index 614': 1, 'index 615': 1, 'index 616': 1, 'index 617': 1, 'index 619': 1, 'index 620': 1, 'index 622': 1, 'index 623': 1, 'index 624': 1, 'index 626': 1, 'index 628': 1, 'index 629': 2, 'index 631': 1, 'index 633': 2, 'index 634': 1, 'index 635': 1, 'index 636': 1, 'index 637': 1, 'index 638': 1, 'index 639': 2, 'index 640': 1, 'index 642': 1, 'index 643': 2, 'index 644': 1, 'index 646': 1, 'index 648': 2, 'index 649': 1, 'index 650': 2, 'index 651': 1, 'index 652': 1, 'index 653': 2, 'index 654': 1, 'index 655': 1, 'index 656': 2, 'index 657': 1, 'index 658': 1, 'index 660': 1, 'index 661': 1, 'index 663': 1, 'index 664': 1, 'index 665': 1, 'index 666': 1, 'index 667': 2, 'index 668': 1, 'index 669': 1, 'index 670': 1, 'index 672': 1, 'index 673': 1, 'index 674': 2, 'index 675': 1, 'index 676': 1, 'index 677': 1, 'index 678': 1, 'index 680': 2, 'index 682': 1, 'index 683': 1, 'index 684': 1, 'index 685': 1, 'index 686': 1, 'index 687': 1, 'index 688': 1, 'index 691': 1, 'index 692': 2, 'index 693': 1, 'index 694': 1, 'index 695': 1, 'index 696': 1, 'index 697': 2, 'index 702': 1, 'index 703': 1, 'index 704': 1, 'index 705': 1, 'index 706': 1, 'index 708': 1, 'index 709': 2, 'index 711': 1, 'index 713': 1, 'index 714': 1, 'index 718': 2, 'index 719': 1, 'index 720': 1, 'index 721': 1, 'index 722': 1, 'index 723': 1, 'index 725': 1, 'index 726': 1, 'index 727': 2, 'index 728': 1, 'index 729': 1, 'index 731': 1, 'index 732': 2, 'index 733': 1, 'index 734': 1, 'index 735': 1, 'index 736': 1, 'index 738': 2, 'index 739': 2, 'index 740': 1, 'index 743': 1, 'index 744': 1, 'index 746': 1, 'index 747': 1, 'index 749': 1, 'index 750': 1, 'index 752': 1, 'index 753': 1, 'index 754': 1, 'index 755': 1, 'index 756': 1, 'index 757': 1, 'index 758': 1, 'index 760': 2, 'index 761': 1, 'index 762': 1, 'index 764': 1, 'index 766': 2, 'index 767': 1, 'index 768': 2, 'index 769': 1, 'index 770': 1, 'index 771': 1, 'index 773': 2, 'index 774': 1, 'index 775': 1, 'index 776': 1, 'index 777': 1, 'index 778': 2, 'index 780': 1, 'index 783': 2, 'index 784': 1, 'index 785': 1, 'index 786': 1, 'index 787': 1, 'index 788': 1, 'index 790': 2, 'index 791': 1, 'index 792': 2, 'index 793': 2, 'index 794': 1, 'index 795': 1, 'index 797': 1, 'index 798': 1, 'index 799': 1, 'index 800': 1, 'index 801': 1, 'index 803': 1, 'index 804': 1, 'index 805': 1, 'index 807': 1, 'index 808': 1, 'index 810': 1, 'index 811': 1, 'index 812': 1, 'index 813': 1, 'index 814': 1, 'index 815': 1, 'index 816': 1, 'index 817': 1, 'index 818': 1, 'index 819': 1, 'index 821': 1, 'index 822': 1, 'index 824': 1, 'index 825': 2, 'index 826': 2, 'index 827': 1, 'index 828': 2, 'index 829': 1, 'index 830': 1, 'index 831': 1, 'index 832': 2, 'index 833': 1, 'index 834': 1, 'index 836': 1, 'index 837': 2, 'index 838': 1, 'index 839': 1, 'index 840': 1, 'index 841': 1, 'index 842': 1, 'index 843': 1, 'index 844': 1, 'index 845': 1, 'index 846': 2, 'index 847': 1, 'index 848': 1, 'index 849': 1, 'index 850': 1, 'index 851': 1, 'index 852': 1, 'index 854': 1, 'index 855': 1, 'index 856': 1, 'index 858': 1, 'index 859': 2, 'index 860': 1, 'index 861': 1, 'index 863': 2, 'index 864': 1, 'index 865': 1, 'index 866': 1, 'index 868': 2, 'index 869': 1, 'index 870': 1, 'index 873': 1, 'index 874': 1, 'index 875': 1, 'index 876': 1, 'index 877': 1, 'index 878': 2, 'index 880': 1, 'index 881': 1, 'index 882': 1, 'index 883': 1, 'index 884': 1, 'index 885': 1, 'index 886': 1, 'index 888': 2, 'index 890': 1}\n"
     ]
    }
   ],
   "source": [
    "# CODE HERE:\n",
    "missing_dict = {}\n",
    "def missing_values(df_train):\n",
    "    for i in range(len(df_train)):\n",
    "        if df_train.iloc[i].isnull().any():\n",
    "            missing_dict[f'index {i}'] = df_train.iloc[i].isnull().sum()\n",
    "    return missing_dict\n",
    "\n",
    "print(missing_values(df_train))\n",
    "# END CODE"
   ]
  },
  {
   "cell_type": "markdown",
   "metadata": {},
   "source": [
    "### **5. Duplicated function (2p.)**\n",
    "---\n",
    "Create a function that given a dataframe returns the same dataframe without the duplicated columns (`employee_data`). Remove the first column (you cannot put the column name, you must do it automatically) and return the dataframe without the duplicated columns.   \n",
    "\n",
    "❌ Do not use the `drop_duplicates` or `duplicated` functions, **do it programmatically.**"
   ]
  },
  {
   "cell_type": "code",
   "execution_count": 62,
   "metadata": {},
   "outputs": [
    {
     "data": {
      "text/html": [
       "<div>\n",
       "<style scoped>\n",
       "    .dataframe tbody tr th:only-of-type {\n",
       "        vertical-align: middle;\n",
       "    }\n",
       "\n",
       "    .dataframe tbody tr th {\n",
       "        vertical-align: top;\n",
       "    }\n",
       "\n",
       "    .dataframe thead th {\n",
       "        text-align: right;\n",
       "    }\n",
       "</style>\n",
       "<table border=\"1\" class=\"dataframe\">\n",
       "  <thead>\n",
       "    <tr style=\"text-align: right;\">\n",
       "      <th></th>\n",
       "      <th>Employee_ID</th>\n",
       "      <th>Department</th>\n",
       "      <th>Salary</th>\n",
       "      <th>Years_Worked</th>\n",
       "      <th>Level</th>\n",
       "    </tr>\n",
       "  </thead>\n",
       "  <tbody>\n",
       "    <tr>\n",
       "      <th>0</th>\n",
       "      <td>101</td>\n",
       "      <td>HR</td>\n",
       "      <td>60000</td>\n",
       "      <td>3</td>\n",
       "      <td>3</td>\n",
       "    </tr>\n",
       "    <tr>\n",
       "      <th>1</th>\n",
       "      <td>102</td>\n",
       "      <td>IT</td>\n",
       "      <td>75000</td>\n",
       "      <td>5</td>\n",
       "      <td>5</td>\n",
       "    </tr>\n",
       "    <tr>\n",
       "      <th>2</th>\n",
       "      <td>103</td>\n",
       "      <td>Finance</td>\n",
       "      <td>80000</td>\n",
       "      <td>8</td>\n",
       "      <td>8</td>\n",
       "    </tr>\n",
       "    <tr>\n",
       "      <th>3</th>\n",
       "      <td>104</td>\n",
       "      <td>IT</td>\n",
       "      <td>72000</td>\n",
       "      <td>2</td>\n",
       "      <td>2</td>\n",
       "    </tr>\n",
       "    <tr>\n",
       "      <th>4</th>\n",
       "      <td>105</td>\n",
       "      <td>HR</td>\n",
       "      <td>62000</td>\n",
       "      <td>4</td>\n",
       "      <td>4</td>\n",
       "    </tr>\n",
       "  </tbody>\n",
       "</table>\n",
       "</div>"
      ],
      "text/plain": [
       "   Employee_ID Department  Salary  Years_Worked  Level\n",
       "0          101         HR   60000             3      3\n",
       "1          102         IT   75000             5      5\n",
       "2          103    Finance   80000             8      8\n",
       "3          104         IT   72000             2      2\n",
       "4          105         HR   62000             4      4"
      ]
     },
     "execution_count": 62,
     "metadata": {},
     "output_type": "execute_result"
    }
   ],
   "source": [
    "data = {\n",
    "    'Employee_ID': [101, 102, 103, 104, 105],\n",
    "    'Department': ['HR', 'IT', 'Finance', 'IT', 'HR'],\n",
    "    'Salary': [60000, 75000, 80000, 72000, 62000],\n",
    "    'Years_Worked': [3, 5, 8, 2, 4],\n",
    "    'Level': [3, 5, 8, 2, 4]\n",
    "}\n",
    "\n",
    "employee_data = pd.DataFrame(data)\n",
    "employee_data"
   ]
  },
  {
   "cell_type": "code",
   "execution_count": 63,
   "metadata": {},
   "outputs": [
    {
     "name": "stdout",
     "output_type": "stream",
     "text": [
      "   Employee_ID Department  Salary  Years_Worked\n",
      "0          101         HR   60000             3\n",
      "1          102         IT   75000             5\n",
      "2          103    Finance   80000             8\n",
      "3          104         IT   72000             2\n",
      "4          105         HR   62000             4\n"
     ]
    }
   ],
   "source": [
    "# CODE HERE:\n",
    "def drop_duplicate_columns(df):\n",
    "    columns_to_drop = []\n",
    "    for i in range(1, len(df.columns)):\n",
    "        for j in range(i):\n",
    "            if df.iloc[:, i].equals(df.iloc[:, j]):\n",
    "                columns_to_drop.append(df.columns[i])\n",
    "                break\n",
    "    df.drop(columns=columns_to_drop, inplace=True)\n",
    "    return df\n",
    "\n",
    "drop_duplicate_columns(employee_data)\n",
    "print(employee_data)\n",
    "# END CODE"
   ]
  },
  {
   "cell_type": "markdown",
   "metadata": {},
   "source": [
    "### **6. Max Age (0,5p.)**\n",
    "---\n",
    "Print the PassengerId which Age is the highest (`df_train`). USE ONE LINE OF CODE."
   ]
  },
  {
   "cell_type": "code",
   "execution_count": 64,
   "metadata": {},
   "outputs": [
    {
     "name": "stdout",
     "output_type": "stream",
     "text": [
      "[631]\n"
     ]
    }
   ],
   "source": [
    "# CODE HERE:\n",
    "print(df_train['PassengerId'][df_train['Age'] == df_train['Age'].max()].values)\n",
    "# END CODE"
   ]
  },
  {
   "cell_type": "markdown",
   "metadata": {},
   "source": [
    "### **7. Joins (1,5p.)**\n",
    "---"
   ]
  },
  {
   "cell_type": "code",
   "execution_count": 65,
   "metadata": {},
   "outputs": [],
   "source": [
    "data_sales = {\n",
    "    'Order_Code': [101, 102, 103, 104, 105],\n",
    "    'Item_Code': ['I1', 'I2', 'I1', 'I3', 'I2'],\n",
    "    'Units_Sold': [6, 3, 7, 5, 3],\n",
    "    'Revenue': [600, 450, 700, 800, 450]\n",
    "}\n",
    "sales_data = pd.DataFrame(data_sales)\n",
    "\n",
    "data_product = {\n",
    "    'Item_Code': ['I1', 'I2', 'I3'],\n",
    "    'Item_Name': ['Gadget_X', 'Apparel_Y', 'Book_Z'],\n",
    "    'Type': ['Gadgets', 'Clothing', 'Literature']\n",
    "}\n",
    "product_info = pd.DataFrame(data_product)"
   ]
  },
  {
   "cell_type": "code",
   "execution_count": 66,
   "metadata": {},
   "outputs": [
    {
     "name": "stdout",
     "output_type": "stream",
     "text": [
      "a) Merged Sales Data:\n"
     ]
    },
    {
     "data": {
      "text/html": [
       "<div>\n",
       "<style scoped>\n",
       "    .dataframe tbody tr th:only-of-type {\n",
       "        vertical-align: middle;\n",
       "    }\n",
       "\n",
       "    .dataframe tbody tr th {\n",
       "        vertical-align: top;\n",
       "    }\n",
       "\n",
       "    .dataframe thead th {\n",
       "        text-align: right;\n",
       "    }\n",
       "</style>\n",
       "<table border=\"1\" class=\"dataframe\">\n",
       "  <thead>\n",
       "    <tr style=\"text-align: right;\">\n",
       "      <th></th>\n",
       "      <th>Order_Code</th>\n",
       "      <th>Item_Code</th>\n",
       "      <th>Units_Sold</th>\n",
       "      <th>Revenue</th>\n",
       "      <th>Item_Name</th>\n",
       "      <th>Type</th>\n",
       "    </tr>\n",
       "  </thead>\n",
       "  <tbody>\n",
       "    <tr>\n",
       "      <th>0</th>\n",
       "      <td>101</td>\n",
       "      <td>I1</td>\n",
       "      <td>6</td>\n",
       "      <td>600</td>\n",
       "      <td>Gadget_X</td>\n",
       "      <td>Gadgets</td>\n",
       "    </tr>\n",
       "    <tr>\n",
       "      <th>1</th>\n",
       "      <td>102</td>\n",
       "      <td>I2</td>\n",
       "      <td>3</td>\n",
       "      <td>450</td>\n",
       "      <td>Apparel_Y</td>\n",
       "      <td>Clothing</td>\n",
       "    </tr>\n",
       "    <tr>\n",
       "      <th>2</th>\n",
       "      <td>103</td>\n",
       "      <td>I1</td>\n",
       "      <td>7</td>\n",
       "      <td>700</td>\n",
       "      <td>Gadget_X</td>\n",
       "      <td>Gadgets</td>\n",
       "    </tr>\n",
       "    <tr>\n",
       "      <th>3</th>\n",
       "      <td>104</td>\n",
       "      <td>I3</td>\n",
       "      <td>5</td>\n",
       "      <td>800</td>\n",
       "      <td>Book_Z</td>\n",
       "      <td>Literature</td>\n",
       "    </tr>\n",
       "    <tr>\n",
       "      <th>4</th>\n",
       "      <td>105</td>\n",
       "      <td>I2</td>\n",
       "      <td>3</td>\n",
       "      <td>450</td>\n",
       "      <td>Apparel_Y</td>\n",
       "      <td>Clothing</td>\n",
       "    </tr>\n",
       "  </tbody>\n",
       "</table>\n",
       "</div>"
      ],
      "text/plain": [
       "   Order_Code Item_Code  Units_Sold  Revenue  Item_Name        Type\n",
       "0         101        I1           6      600   Gadget_X     Gadgets\n",
       "1         102        I2           3      450  Apparel_Y    Clothing\n",
       "2         103        I1           7      700   Gadget_X     Gadgets\n",
       "3         104        I3           5      800     Book_Z  Literature\n",
       "4         105        I2           3      450  Apparel_Y    Clothing"
      ]
     },
     "metadata": {},
     "output_type": "display_data"
    },
    {
     "name": "stdout",
     "output_type": "stream",
     "text": [
      "\n",
      "b) Total Sales Revenue by Type:\n",
      "Type\n",
      "Clothing       900\n",
      "Gadgets       1300\n",
      "Literature     800\n",
      "Name: Revenue, dtype: int64\n"
     ]
    }
   ],
   "source": [
    "# a. Merge sales_data and product_info on 'Item_Code'\n",
    "merged_sales_data = sales_data.merge(product_info, on='Item_Code')\n",
    "\n",
    "# b. Calculate the total sales revenue (Revenue) for each type\n",
    "total_sales_by_type = merged_sales_data.groupby('Type')['Revenue'].sum()\n",
    "\n",
    "print(\"a) Merged Sales Data:\")\n",
    "display(merged_sales_data)\n",
    "print(\"\\nb) Total Sales Revenue by Type:\")\n",
    "print(total_sales_by_type)"
   ]
  },
  {
   "cell_type": "markdown",
   "metadata": {},
   "source": [
    "### **8. Programming (0,5p.)**\n",
    "---\n",
    "\n",
    "Write a piece of code that prompts you to enter a whole number on the screen and then prints N arrows on the screen, where N is the number entered, with the length of its characters starting at N and decreasing by 1 on each line until it reaches 1, similar to the one in the image below:    \n",
    "\n",
    "<img src=\"flecha.png\">"
   ]
  },
  {
   "cell_type": "code",
   "execution_count": 67,
   "metadata": {},
   "outputs": [
    {
     "name": "stdout",
     "output_type": "stream",
     "text": [
      "Longitud de la Flecha: 10\n",
      "--------->\n",
      "-------->\n",
      "------->\n",
      "------>\n",
      "----->\n",
      "---->\n",
      "--->\n",
      "-->\n",
      "->\n",
      ">\n"
     ]
    }
   ],
   "source": [
    "# CODE HERE:\n",
    "def arrow(n):\n",
    "    print(f\"Longitud de la Flecha: {n}\")\n",
    "    for i in range(n, 0, -1):\n",
    "        print(\"-\" * (i-1) + \">\")\n",
    "\n",
    "arrow(10)\n",
    "# END CODE"
   ]
  },
  {
   "cell_type": "markdown",
   "metadata": {},
   "source": [
    "### **9. Vowels (2p.)**\n",
    "---\n",
    "Write a code function that receives the `Name` column and return the number of vowels in the name. Put the result in a list and the create a new column in `df_train` called `n_vowels` with the result."
   ]
  },
  {
   "cell_type": "code",
   "execution_count": 68,
   "metadata": {},
   "outputs": [
    {
     "name": "stdout",
     "output_type": "stream",
     "text": [
      "                                                  Name  n_vowels\n",
      "0                              Braund, Mr. Owen Harris         6\n",
      "1    Cumings, Mrs. John Bradley (Florence Briggs Th...        11\n",
      "2                               Heikkinen, Miss. Laina         8\n",
      "3         Futrelle, Mrs. Jacques Heath (Lily May Peel)        12\n",
      "4                             Allen, Mr. William Henry         6\n",
      "..                                                 ...       ...\n",
      "886                              Montvila, Rev. Juozas         7\n",
      "887                       Graham, Miss. Margaret Edith         8\n",
      "888           Johnston, Miss. Catherine Helen \"Carrie\"        12\n",
      "889                              Behr, Mr. Karl Howell         4\n",
      "890                                Dooley, Mr. Patrick         5\n",
      "\n",
      "[891 rows x 2 columns]\n"
     ]
    }
   ],
   "source": [
    "# CODE HERE:\n",
    "vowels = ['a', 'e', 'i', 'o', 'u']\n",
    "\n",
    "def count_vowels(name, vowels):\n",
    "    count = 0\n",
    "    for letter in name.lower():\n",
    "        if letter in vowels:\n",
    "            count += 1\n",
    "    return count\n",
    "\n",
    "df_train['n_vowels'] = df_train['Name'].apply(lambda x: count_vowels(x, vowels))\n",
    "print(df_train[['Name', 'n_vowels']])\n",
    "# END CODE"
   ]
  },
  {
   "cell_type": "markdown",
   "metadata": {},
   "source": [
    "---"
   ]
  }
 ],
 "metadata": {
  "kernelspec": {
   "display_name": "Python 3.8.5 ('base')",
   "language": "python",
   "name": "python3"
  },
  "language_info": {
   "codemirror_mode": {
    "name": "ipython",
    "version": 3
   },
   "file_extension": ".py",
   "mimetype": "text/x-python",
   "name": "python",
   "nbconvert_exporter": "python",
   "pygments_lexer": "ipython3",
   "version": "3.9.13"
  },
  "orig_nbformat": 4,
  "vscode": {
   "interpreter": {
    "hash": "92d1c8824dd9ed58f2e2fe7d35df9188f2132fcf69312c535170a29d4fbf29a8"
   }
  }
 },
 "nbformat": 4,
 "nbformat_minor": 2
}
